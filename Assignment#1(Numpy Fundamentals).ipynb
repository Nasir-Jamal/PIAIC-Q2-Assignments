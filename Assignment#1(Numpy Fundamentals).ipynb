{
 "cells": [
  {
   "cell_type": "markdown",
   "metadata": {
    "id": "NgUeapcvmIRh"
   },
   "source": [
    "# **Assignment For Numpy**"
   ]
  },
  {
   "cell_type": "markdown",
   "metadata": {
    "id": "yhr3JicwnA-4"
   },
   "source": [
    "Difficulty Level **Beginner**"
   ]
  },
  {
   "cell_type": "markdown",
   "metadata": {
    "id": "hVPqDJ1SnKSh"
   },
   "source": [
    "1. Import the numpy package under the name np"
   ]
  },
  {
   "cell_type": "code",
   "execution_count": 4,
   "metadata": {
    "id": "SePu31zKmgS-"
   },
   "outputs": [],
   "source": [
    "import numpy as np"
   ]
  },
  {
   "cell_type": "code",
   "execution_count": 24,
   "metadata": {},
   "outputs": [
    {
     "data": {
      "text/plain": [
       "(2, 3)"
      ]
     },
     "execution_count": 24,
     "metadata": {},
     "output_type": "execute_result"
    }
   ],
   "source": [
    "aaa = np.array([[1,2,3],[5,10,15]])\n",
    "aaa.ndim\n",
    "aaa.shape\n",
    "#aaa.size\n",
    "aaa.dtype\n",
    "np.shape(aaa)"
   ]
  },
  {
   "cell_type": "markdown",
   "metadata": {
    "id": "d0gO81krnL7g"
   },
   "source": [
    "2. Create a null vector of size 10 "
   ]
  },
  {
   "cell_type": "code",
   "execution_count": 10,
   "metadata": {
    "id": "2s6o2JPgnSBr"
   },
   "outputs": [
    {
     "name": "stdout",
     "output_type": "stream",
     "text": [
      "[0. 0. 0. 0. 0. 0. 0. 0. 0. 0.]\n",
      "Shape of null-vector: (10,)\n",
      "----------------\n",
      "[0 0 0 0 0 0 0 0 0 0]\n",
      "Shape of null-vector: (10,)\n"
     ]
    }
   ],
   "source": [
    "# ways to create Numpy null vector:\n",
    "\n",
    "# method-1: Using Numpy zeros() to generate null values\n",
    "null_v_1 = np.zeros(10, dtype=int)\n",
    "print(null_v_1)\n",
    "print(\"Shape of null-vector:\", null_v_1.shape)\n",
    "print(\"----------------\")\n",
    "# method-2: Using Python list: assigning null-values maunually\n",
    "null_v_2 = np.array([0,0,0,0,0,0,0,0,0,0])\n",
    "print(null_v_2)\n",
    "print(\"Shape of null-vector:\", null_v_2.shape)\n",
    "\n",
    "\n"
   ]
  },
  {
   "cell_type": "markdown",
   "metadata": {
    "id": "BJTMK03fnS1w"
   },
   "source": [
    "3. Create a vector with values ranging from 10 to 49"
   ]
  },
  {
   "cell_type": "code",
   "execution_count": 11,
   "metadata": {
    "id": "qRXxXuWdnj1M"
   },
   "outputs": [
    {
     "name": "stdout",
     "output_type": "stream",
     "text": [
      "[ 0  1  2  3  4  5  6  7  8  9 10 11 12 13 14 15 16 17 18 19 20 21 22 23\n",
      " 24 25 26 27 28 29 30 31 32 33 34 35 36 37 38 39 40 41 42 43 44 45 46 47\n",
      " 48 49]\n",
      "Shape of vector1: (50,)\n",
      "---------------\n",
      "Vector v2: [ 0  1  2  3  4  5  6  7  8  9 10 11 12 13 14 15 16 17 18 19 20 21 22 23\n",
      " 24 25 26 27 28 29 30 31 32 33 34 35 36 37 38 39 40 41 42 43 44 45 46 47\n",
      " 48 49]\n",
      "Shape of vector2: (50,)\n"
     ]
    }
   ],
   "source": [
    "# ways to create vector:\n",
    "# .1 Using Python range() function inside arrray() function\n",
    "v1 = np.array(range(0,50))\n",
    "print(v1)\n",
    "print(\"Shape of vector1:\", v1.shape)\n",
    "print(\"---------------\")\n",
    "\n",
    "# 2. Using Numpy arange() function:\n",
    "v2 = np.arange(50)\n",
    "print(\"Vector v2:\", v2)\n",
    "print(\"Shape of vector2:\", v2.shape)"
   ]
  },
  {
   "cell_type": "markdown",
   "metadata": {
    "id": "n63lzg5Onkcn"
   },
   "source": [
    "4. Find the shape of previous array in question 3"
   ]
  },
  {
   "cell_type": "code",
   "execution_count": 25,
   "metadata": {
    "id": "1FueBdqPn_q7"
   },
   "outputs": [
    {
     "name": "stdout",
     "output_type": "stream",
     "text": [
      "Shape of vector1: (50,)\n",
      "-----\n",
      "Shape of vector2: (50,)\n"
     ]
    }
   ],
   "source": [
    "print(\"Shape of vector1:\", v1.shape)\n",
    "print(\"-----\")\n",
    "print(\"Shape of vector2:\", v2.shape)"
   ]
  },
  {
   "cell_type": "markdown",
   "metadata": {
    "id": "AzMlQj1MoAVe"
   },
   "source": [
    "5. Print the type of the previous array in question 3"
   ]
  },
  {
   "cell_type": "code",
   "execution_count": 28,
   "metadata": {
    "id": "AO9PYmdWoE1L"
   },
   "outputs": [
    {
     "name": "stdout",
     "output_type": "stream",
     "text": [
      "Type of vector 1: <class 'numpy.ndarray'>\n",
      "Type of vector 2: <class 'numpy.ndarray'>\n"
     ]
    }
   ],
   "source": [
    "print(\"Type of vector 1:\", type(v1))\n",
    "print(\"Type of vector 2:\", type(v2))"
   ]
  },
  {
   "cell_type": "markdown",
   "metadata": {
    "id": "0qaKS13Yon-U"
   },
   "source": [
    "6. Print the numpy version and the configuration\n"
   ]
  },
  {
   "cell_type": "code",
   "execution_count": 13,
   "metadata": {
    "id": "T3wY24e1oorh"
   },
   "outputs": [
    {
     "name": "stdout",
     "output_type": "stream",
     "text": [
      "Numpy version:  1.17.4\n",
      "blas_mkl_info:\n",
      "  NOT AVAILABLE\n",
      "blis_info:\n",
      "  NOT AVAILABLE\n",
      "openblas_info:\n",
      "    library_dirs = ['C:\\\\projects\\\\numpy-wheels\\\\numpy\\\\build\\\\openblas']\n",
      "    libraries = ['openblas']\n",
      "    language = f77\n",
      "    define_macros = [('HAVE_CBLAS', None)]\n",
      "blas_opt_info:\n",
      "    library_dirs = ['C:\\\\projects\\\\numpy-wheels\\\\numpy\\\\build\\\\openblas']\n",
      "    libraries = ['openblas']\n",
      "    language = f77\n",
      "    define_macros = [('HAVE_CBLAS', None)]\n",
      "lapack_mkl_info:\n",
      "  NOT AVAILABLE\n",
      "openblas_lapack_info:\n",
      "    library_dirs = ['C:\\\\projects\\\\numpy-wheels\\\\numpy\\\\build\\\\openblas']\n",
      "    libraries = ['openblas']\n",
      "    language = f77\n",
      "    define_macros = [('HAVE_CBLAS', None)]\n",
      "lapack_opt_info:\n",
      "    library_dirs = ['C:\\\\projects\\\\numpy-wheels\\\\numpy\\\\build\\\\openblas']\n",
      "    libraries = ['openblas']\n",
      "    language = f77\n",
      "    define_macros = [('HAVE_CBLAS', None)]\n",
      "None\n"
     ]
    }
   ],
   "source": [
    "#Numpy version:\n",
    "print(\"Numpy version: \", np.__version__)\n",
    "\n",
    "#Numpy configuration:\n",
    "print(np.show_config())"
   ]
  },
  {
   "cell_type": "markdown",
   "metadata": {
    "id": "ZyUUiQf5oyvE"
   },
   "source": [
    "7. Print the dimension of the array in question 3\n"
   ]
  },
  {
   "cell_type": "code",
   "execution_count": 32,
   "metadata": {
    "id": "pLXfuIqIo0vq"
   },
   "outputs": [
    {
     "name": "stdout",
     "output_type": "stream",
     "text": [
      "Dimension of vector 1: 1\n",
      "Dimension of vector 2: 1\n"
     ]
    }
   ],
   "source": [
    "print(\"Dimension of vector 1:\", v1.ndim)\n",
    "print(\"Dimension of vector 2:\", v2.ndim)"
   ]
  },
  {
   "cell_type": "markdown",
   "metadata": {
    "id": "JYVMuFrqpBdV"
   },
   "source": [
    "8. Create a boolean array with all the True values"
   ]
  },
  {
   "cell_type": "code",
   "execution_count": 15,
   "metadata": {
    "id": "3apZsISzpFKR"
   },
   "outputs": [
    {
     "data": {
      "text/plain": [
       "array([ True,  True,  True,  True,  True,  True,  True,  True,  True,\n",
       "        True])"
      ]
     },
     "execution_count": 15,
     "metadata": {},
     "output_type": "execute_result"
    }
   ],
   "source": [
    "arr_bool = np.ones(10, dtype=bool)\n",
    "arr_bool"
   ]
  },
  {
   "cell_type": "markdown",
   "metadata": {
    "id": "4zbBooWZpPBU"
   },
   "source": [
    "9. Create a two dimensional array\n",
    "\n",
    "\n"
   ]
  },
  {
   "cell_type": "code",
   "execution_count": 21,
   "metadata": {
    "id": "KfPQEiVIpdTo"
   },
   "outputs": [
    {
     "name": "stdout",
     "output_type": "stream",
     "text": [
      "[[10 20 30]\n",
      " [ 5 15 25]]\n",
      "2\n",
      "[[0 1 2 3 4]\n",
      " [5 6 7 8 9]]\n",
      "2\n"
     ]
    }
   ],
   "source": [
    "# method-1: passing lists inside array()\n",
    "arr2d = np.array([[10, 20, 30],[5, 15, 25]])\n",
    "print(arr2d)\n",
    "print(arr2d.ndim)\n",
    "\n",
    "# method-2: Using reshape() function\n",
    "a2d = np.arange(10).reshape(2,5)\n",
    "print(a2d)\n",
    "print(a2d.ndim)"
   ]
  },
  {
   "cell_type": "markdown",
   "metadata": {
    "id": "do9wPAFbpqC7"
   },
   "source": [
    "10. Create a three dimensional array\n",
    "\n"
   ]
  },
  {
   "cell_type": "code",
   "execution_count": 25,
   "metadata": {
    "id": "ZCO_q-KZqAeW"
   },
   "outputs": [
    {
     "name": "stdout",
     "output_type": "stream",
     "text": [
      "[[[1 2 3]\n",
      "  [4 5 6]\n",
      "  [7 8 9]]]\n",
      "3\n",
      "[[[ 0  1  2  3  4]\n",
      "  [ 5  6  7  8  9]\n",
      "  [10 11 12 13 14]\n",
      "  [15 16 17 18 19]\n",
      "  [20 21 22 23 24]]]\n",
      "3\n"
     ]
    }
   ],
   "source": [
    "# method-1:\n",
    "arr3d = np.array([[[1,2,3], [4,5,6], [7,8,9]]])\n",
    "print(arr3d)\n",
    "print(arr3d.ndim)\n",
    "\n",
    "# method-2: Using reshape()\n",
    "a3d =np.arange(25).reshape(1,5,5) \n",
    "print(a3d)\n",
    "print(a3d.ndim)"
   ]
  },
  {
   "cell_type": "markdown",
   "metadata": {
    "id": "a4iysJ87qEeb"
   },
   "source": [
    "Difficulty Level **Easy**"
   ]
  },
  {
   "cell_type": "markdown",
   "metadata": {
    "id": "DehgqszSqjY6"
   },
   "source": [
    "11. Reverse a vector (first element becomes last)"
   ]
  },
  {
   "cell_type": "code",
   "execution_count": 38,
   "metadata": {
    "id": "tfevmc4VqkWu"
   },
   "outputs": [
    {
     "name": "stdout",
     "output_type": "stream",
     "text": [
      "OriginalVector: [0 1 2 3 4 5 6 7 8 9]\n",
      "Reverse vector : [9 8 7 6 5 4 3 2 1 0]\n",
      "Revserse vector 2: [9 8 7 6 5 4 3 2 1 0]\n"
     ]
    }
   ],
   "source": [
    "v1 = np.arange(10)\n",
    "print(\"OriginalVector:\", v1)\n",
    "\n",
    "# method-1: Using flip() function\n",
    "rv1 = np.flip(v1, 0) # np.flip() reverse the order of vector axis=0 horizontally/row vise, axis=1 vertically/column vise\n",
    "print(\"Reverse vector :\", rv1)\n",
    "\n",
    "# method-2: Using slicing\n",
    "rv2 = v1[::-1]\n",
    "print(\"Revserse vector 2:\", rv2)\n",
    "\n",
    "\n"
   ]
  },
  {
   "cell_type": "markdown",
   "metadata": {
    "id": "yoATXS-qqk_q"
   },
   "source": [
    "12. Create a null vector of size 10 but the fifth value which is 1 "
   ]
  },
  {
   "cell_type": "code",
   "execution_count": 40,
   "metadata": {
    "id": "AheZ32Owqpte"
   },
   "outputs": [
    {
     "name": "stdout",
     "output_type": "stream",
     "text": [
      "Null vector of size 10:  [0 0 0 0 0 0 0 0 0 0]\n",
      "[0 0 0 0 1 0 0 0 0 0]\n"
     ]
    },
    {
     "data": {
      "text/plain": [
       "array([0, 0, 0, 0, 1, 0, 0, 0, 0, 0])"
      ]
     },
     "execution_count": 40,
     "metadata": {},
     "output_type": "execute_result"
    }
   ],
   "source": [
    "null_v = np.zeros(10,  dtype='int32')\n",
    "print(\"Null vector of size 10: \", null_v)\n",
    "\n",
    "# method-1:\n",
    "null_v[4] = 1 #assigning 1 at 5th position:\n",
    "print(null_v)\n",
    "\n",
    "# method-2:\n",
    "(np.arange(10) == 4 ).astype(int)\n",
    "#np.arange(10) * 1\n",
    "#null_v_alike = np.zeros.alike(10, 5)"
   ]
  },
  {
   "cell_type": "markdown",
   "metadata": {
    "id": "RZRzOBbFsY0w"
   },
   "source": [
    "13. Create a 3x3 identity matrix"
   ]
  },
  {
   "cell_type": "code",
   "execution_count": 42,
   "metadata": {
    "id": "va2ou0BHsvEj"
   },
   "outputs": [
    {
     "name": "stdout",
     "output_type": "stream",
     "text": [
      "[[1 0 0]\n",
      " [0 1 0]\n",
      " [0 0 1]]\n"
     ]
    }
   ],
   "source": [
    "iMat_3x3 = np.eye(3, dtype='int32')\n",
    "print(iMat_3x3)"
   ]
  },
  {
   "cell_type": "markdown",
   "metadata": {
    "id": "lnN5drkUs6o2"
   },
   "source": [
    "14. arr = np.array([1, 2, 3, 4, 5]) \n",
    "\n",
    "---\n",
    "\n",
    " Convert the data type of the given array from int to float "
   ]
  },
  {
   "cell_type": "code",
   "execution_count": 43,
   "metadata": {
    "id": "59EIQt6otKUB"
   },
   "outputs": [
    {
     "name": "stdout",
     "output_type": "stream",
     "text": [
      "method-1: [1. 2. 3. 4. 5.]\n",
      "method-2: [1. 2. 3. 4. 5.]\n",
      "method-3: [1. 2. 3. 4. 5.]\n",
      "method-4: [1.  2.  3.  4.  5.1]\n"
     ]
    }
   ],
   "source": [
    "arr = np.array([1,2,3,4,5])\n",
    "# method-1: type casting/explicit conversion\n",
    "m1_arr = np.array([1,2,3,4,5]).astype(float)\n",
    "print(\"method-1:\", m1_arr)\n",
    "\n",
    "# method-2:\n",
    "m2_arr = np.array([1,2,3,4,5], dtype='float32')\n",
    "print(\"method-2:\", m2_arr)\n",
    "\n",
    "# method-3:\n",
    "m3_arr = np.array([1,2,3,4,5], 'float')\n",
    "print(\"method-3:\", m3_arr)\n",
    "\n",
    "# method-4: By changing any single value of array as floatig point\n",
    "arr = np.array([1,2,3,4,5])\n",
    "m4_arr = np.array([1,2,3,4,5.1])\n",
    "print(\"method-4:\", m4_arr)\n"
   ]
  },
  {
   "cell_type": "markdown",
   "metadata": {
    "id": "fSL2AKJetTes"
   },
   "source": [
    "15. arr1 =          np.array([[1., 2., 3.],\n",
    "\n",
    "                    [4., 5., 6.]])  \n",
    "                      \n",
    "    arr2 = np.array([[0., 4., 1.],\n",
    "     \n",
    "                   [7., 2., 12.]])\n",
    "\n",
    "---\n",
    "\n",
    "\n",
    "Multiply arr1 with arr2\n"
   ]
  },
  {
   "cell_type": "code",
   "execution_count": 43,
   "metadata": {
    "id": "7VDXgRQDuJNV"
   },
   "outputs": [
    {
     "data": {
      "text/plain": [
       "array([[ 0.,  8.,  3.],\n",
       "       [28., 10., 72.]])"
      ]
     },
     "execution_count": 43,
     "metadata": {},
     "output_type": "execute_result"
    }
   ],
   "source": [
    "# 15: Multiply arr1 with arr2:\n",
    "\n",
    "arr1 = np.array([[1., 2., 3.],\n",
    "\n",
    "            [4., 5., 6.]])  \n",
    "arr2 = np.array([[0., 4., 1.],\n",
    "\n",
    "           [7., 2., 12.]])\n",
    "product_arr3 = arr1 * arr2\n",
    "product_arr3"
   ]
  },
  {
   "cell_type": "markdown",
   "metadata": {
    "id": "a8yJ438-uKni"
   },
   "source": [
    "16. arr1 = np.array([[1., 2., 3.],\n",
    "                    [4., 5., 6.]]) \n",
    "                    \n",
    "    arr2 = np.array([[0., 4., 1.], \n",
    "                    [7., 2., 12.]])\n",
    "\n",
    "\n",
    "---\n",
    "\n",
    "Make an array by comparing both the arrays provided above"
   ]
  },
  {
   "cell_type": "code",
   "execution_count": 49,
   "metadata": {
    "id": "3MPDaAlYueF3"
   },
   "outputs": [
    {
     "name": "stdout",
     "output_type": "stream",
     "text": [
      "[[False False False]\n",
      " [False False False]]\n",
      "[[ True False  True]\n",
      " [False  True False]]\n",
      "[[ True False  True]\n",
      " [False  True False]]\n",
      "[[False  True False]\n",
      " [ True False  True]]\n",
      "[[False  True False]\n",
      " [ True False  True]]\n"
     ]
    }
   ],
   "source": [
    "# Make an array by comparing both the arrays provided:\n",
    "\n",
    "arr1 = np.array([[1., 2., 3.],\n",
    "\n",
    "                [4., 5., 6.]]) \n",
    "\n",
    "arr2 = np.array([[0., 4., 1.],\n",
    "\n",
    "                [7., 2., 12.]])\n",
    "\n",
    "# method-1:\n",
    "new_arr1 = arr1 == arr2 \n",
    "print(new_arr1)\n",
    "\n",
    "# method-2:\n",
    "new_arr2 = arr1 > arr2\n",
    "print(new_arr2)\n",
    "\n",
    "# method-3:\n",
    "new_arr3 = arr1 >= arr2\n",
    "print(new_arr3)\n",
    "\n",
    "# method-4:\n",
    "new_arr4 = arr1 < arr2\n",
    "print(new_arr4)\n",
    "\n",
    "# method-5:\n",
    "new_arr5 = arr1 <= arr2\n",
    "print(new_arr5)"
   ]
  },
  {
   "cell_type": "markdown",
   "metadata": {
    "id": "3xiD0eJluewk"
   },
   "source": [
    "17. Extract all odd numbers from arr with values(0-9)"
   ]
  },
  {
   "cell_type": "code",
   "execution_count": 94,
   "metadata": {
    "id": "J_qbt_EuvM7l"
   },
   "outputs": [
    {
     "name": "stdout",
     "output_type": "stream",
     "text": [
      "array(0-9):  [0 1 2 3 4 5 6 7 8 9]\n",
      "[0 1 2 3 4 5 6 7 8 9]\n",
      "------------------\n",
      "Array(0-9):  [0 1 2 3 4 5 6 7 8 9]\n",
      "Extracted odd values: [1 3 5 7 9]\n",
      "Array(0-9): [0 1 2 3 4 5 6 7 8 9]\n",
      "Extracted odd values: [1 3 5 7 9]\n"
     ]
    }
   ],
   "source": [
    "# method-1: code is not working with this way, don;t know why?\n",
    "arr = np.arange(10)\n",
    "print(\"array(0-9): \", arr)\n",
    "arr[arr % 2 == 1]\n",
    "print(arr)\n",
    "print(\"------------------\")\n",
    "# method-2:\n",
    "a1 = np.array([0,1,2,3,4,5,6,7,8,9])\n",
    "print(\"Array(0-9): \", a1)\n",
    "print(\"Extracted odd values:\", a1[a1 % 2 == 1])\n",
    "\n",
    "# method-3:\n",
    "a2 = np.array(range(10))\n",
    "print(\"Array(0-9):\", a2)\n",
    "print(\"Extracted odd values:\", a2[a2 % 2 == 1])"
   ]
  },
  {
   "cell_type": "markdown",
   "metadata": {
    "id": "zpg5cyLsvPoZ"
   },
   "source": [
    "18. Replace all odd numbers to -1 from previous array"
   ]
  },
  {
   "cell_type": "code",
   "execution_count": 98,
   "metadata": {
    "id": "rXUV1-ULvQdd"
   },
   "outputs": [
    {
     "name": "stdout",
     "output_type": "stream",
     "text": [
      "Array(0-9):  [0 1 2 3 4 5 6 7 8 9]\n",
      "Odd values replaced with -1: [ 0 -1  2 -1  4 -1  6 -1  8 -1]\n"
     ]
    }
   ],
   "source": [
    "a18 = np.array([0,1,2,3,4,5,6,7,8,9])\n",
    "print(\"Array(0-9): \", a18)\n",
    "a18[a18 % 2 == 1] = -1\n",
    "a18\n",
    "print(\"Odd values replaced with -1:\", a18)"
   ]
  },
  {
   "cell_type": "markdown",
   "metadata": {
    "id": "FWpHTWTDvjvi"
   },
   "source": [
    "19. arr = np.arange(10)\n",
    "\n",
    "\n",
    "---\n",
    "\n",
    "Replace the values of indexes 5,6,7 and 8 to **12**"
   ]
  },
  {
   "cell_type": "code",
   "execution_count": 121,
   "metadata": {
    "id": "ensZ3lqwvlSb"
   },
   "outputs": [
    {
     "name": "stdout",
     "output_type": "stream",
     "text": [
      "[0 1 2 3 4 5 6 7 8 9]\n",
      "[ 0  1  2  3  4 12 12 12 12  9]\n",
      "-----------------\n",
      "[0 1]\n",
      "[12 12  2  3  4 12 12 12 12  9]\n"
     ]
    }
   ],
   "source": [
    "arr19 = np.arange(10)\n",
    "print(arr19)\n",
    "# method-1: By slicing\n",
    "arr19[5:9]=12\n",
    "print(arr19)\n",
    "print(\"-----------------\")\n",
    "# method-2: \"bare slice\"\n",
    "arr19_slice = arr19[0:2] # can use arr19[5:8] but changed index position to show change in arr19 \n",
    "print(arr19_slice)\n",
    "arr19_slice[:] = 12\n",
    "print(arr19)"
   ]
  },
  {
   "cell_type": "markdown",
   "metadata": {
    "id": "ib-vBffAv0zy"
   },
   "source": [
    "20. Create a 2d array with 1 on the border and 0 inside"
   ]
  },
  {
   "cell_type": "code",
   "execution_count": 133,
   "metadata": {
    "id": "RmzcjNYrwDrM"
   },
   "outputs": [
    {
     "name": "stdout",
     "output_type": "stream",
     "text": [
      "Original 2d array:\n",
      "[[1 1 1 1 1]\n",
      " [1 1 1 1 1]\n",
      " [1 1 1 1 1]\n",
      " [1 1 1 1 1]\n",
      " [1 1 1 1 1]]\n",
      "1 on the border and 0 inside: \n",
      "[[1 1 1 1 1]\n",
      " [1 0 0 0 1]\n",
      " [1 0 0 0 1]\n",
      " [1 0 0 0 1]\n",
      " [1 1 1 1 1]]\n"
     ]
    }
   ],
   "source": [
    "a2d20 = np.ones((5,5), dtype=int)\n",
    "print(\"Original 2d array:\")\n",
    "print(a2d20)\n",
    "\n",
    "a2d20[1:-1,1: -1] = 0\n",
    "print(\"1 on the border and 0 inside: \")\n",
    "print(a2d20)"
   ]
  },
  {
   "cell_type": "markdown",
   "metadata": {
    "id": "E1diIFSEwEmh"
   },
   "source": [
    "Difficulty Level **Medium**"
   ]
  },
  {
   "cell_type": "markdown",
   "metadata": {
    "id": "eGLZmNb_wKb4"
   },
   "source": [
    "21. arr2d = np.array([[1, 2, 3],\n",
    "\n",
    "                    [4, 5, 6], \n",
    "\n",
    "                    [7, 8, 9]])\n",
    "\n",
    "---\n",
    "\n",
    "Replace the value 5 to 12"
   ]
  },
  {
   "cell_type": "code",
   "execution_count": 147,
   "metadata": {
    "id": "VdUnsUOZwJFz"
   },
   "outputs": [
    {
     "name": "stdout",
     "output_type": "stream",
     "text": [
      "[[1 2 3]\n",
      " [4 5 6]\n",
      " [7 8 9]]\n",
      "method-1: [[ 1  2  3]\n",
      " [ 4 12  6]\n",
      " [ 7  8  9]]\n",
      "method-2: [[ 1  2  3]\n",
      " [ 4 12  6]\n",
      " [ 7  8  9]]\n"
     ]
    }
   ],
   "source": [
    "arr2d_21 = np.array([[1, 2, 3],[4, 5, 6],[7, 8, 9]])\n",
    "print(arr2d_21)\n",
    "\n",
    "# method-1:\n",
    "arr2d_21[1][1] = 12\n",
    "print(\"method-1:\", arr2d_21)\n",
    "\n",
    "# method-2:\n",
    "arr2d_21[1,1] = 12\n",
    "print(\"method-2:\", arr2d_21)\n",
    "\n"
   ]
  },
  {
   "cell_type": "markdown",
   "metadata": {
    "id": "TEbFhlPZxaKO"
   },
   "source": [
    "22. arr3d = np.array([[[1, 2, 3], [4, 5, 6]], [[7, 8, 9], [10, 11, 12]]])\n",
    "\n",
    "---\n",
    "Convert all the values of 1st array to 64\n"
   ]
  },
  {
   "cell_type": "code",
   "execution_count": 153,
   "metadata": {
    "id": "eYzephU8xmsg"
   },
   "outputs": [
    {
     "name": "stdout",
     "output_type": "stream",
     "text": [
      "[[[ 1  2  3]\n",
      "  [ 4  5  6]]\n",
      "\n",
      " [[ 7  8  9]\n",
      "  [10 11 12]]]\n"
     ]
    },
    {
     "data": {
      "text/plain": [
       "array([[[64, 64, 64],\n",
       "        [ 4,  5,  6]],\n",
       "\n",
       "       [[ 7,  8,  9],\n",
       "        [10, 11, 12]]])"
      ]
     },
     "execution_count": 153,
     "metadata": {},
     "output_type": "execute_result"
    }
   ],
   "source": [
    "arr3d_22 = np.array([[[1, 2, 3], [4, 5, 6]], [[7, 8, 9], [10, 11, 12]]])\n",
    "print(arr3d_22)\n",
    "arr3d_22[0][0] = 64 # arr3d_22[0,0] = 64 1st array\n",
    "arr3d_22"
   ]
  },
  {
   "cell_type": "markdown",
   "metadata": {
    "id": "vZj0Ndvnx6f0"
   },
   "source": [
    "23. Make a 2-Dimensional array with values 0-9 and slice out the first 1st 1-D array from it"
   ]
  },
  {
   "cell_type": "code",
   "execution_count": 169,
   "metadata": {
    "id": "pM4e9YfdyHSv"
   },
   "outputs": [
    {
     "name": "stdout",
     "output_type": "stream",
     "text": [
      "[[0 1]\n",
      " [2 3]\n",
      " [4 5]\n",
      " [6 7]\n",
      " [8 9]]\n",
      "1st 1d extracted:  [[0 1]]\n",
      "-------------\n",
      "[[0 1 2 3 4]\n",
      " [5 6 7 8 9]]\n",
      "1st 1d ectracted:  [[0 1 2 3 4]]\n"
     ]
    }
   ],
   "source": [
    "arr2d_23 = np.arange(10).reshape(5,2)\n",
    "print(arr2d_23)\n",
    "arr1d_23 = arr2d_23[0:1,0:]\n",
    "print(\"1st 1d extracted: \", arr1d_23)\n",
    "print(\"-------------\")\n",
    "\n",
    "arr2d23 = np.arange(10).reshape(2,5)\n",
    "print(arr2d23)\n",
    "arr1d23 = arr2d23[0:1,0:]\n",
    "print(\"1st 1d ectracted: \", arr1d23)"
   ]
  },
  {
   "cell_type": "markdown",
   "metadata": {
    "id": "C3dkW0lZyVps"
   },
   "source": [
    "24. Make a 2-Dimensional array with values 0-9 and slice out the 2nd value from 2nd 1-D array from it"
   ]
  },
  {
   "cell_type": "code",
   "execution_count": 186,
   "metadata": {
    "id": "IrrzK2xgygqV"
   },
   "outputs": [
    {
     "name": "stdout",
     "output_type": "stream",
     "text": [
      "[[0 1 2 3 4]\n",
      " [5 6 7 8 9]]\n",
      "6\n",
      "6\n",
      "[[6]]\n"
     ]
    }
   ],
   "source": [
    "arr2d_24 = np.arange(10).reshape(2,5)\n",
    "print(arr2d_24)\n",
    "value_2ndarr = arr2d_24[1,1]\n",
    "print(value_2ndarr)\n",
    "\n",
    "value_2ndarr = arr2d_24[1][1]\n",
    "print(value_2ndarr)\n",
    "\n",
    "value_2ndarr = arr2d_24[1:2,1:2] #slice out 2nd value of 2nd 1d array\n",
    "print(value_2ndarr)"
   ]
  },
  {
   "cell_type": "markdown",
   "metadata": {
    "id": "G3dLwOO9yyrE"
   },
   "source": [
    "25. Make a 2-Dimensional array with values 0-9 and slice out the third column but only the first two rows"
   ]
  },
  {
   "cell_type": "code",
   "execution_count": 189,
   "metadata": {
    "id": "5Bx4fqsLyqGD"
   },
   "outputs": [
    {
     "name": "stdout",
     "output_type": "stream",
     "text": [
      "[[0 1 2 3 4]\n",
      " [5 6 7 8 9]]\n"
     ]
    },
    {
     "data": {
      "text/plain": [
       "array([[2],\n",
       "       [7]])"
      ]
     },
     "execution_count": 189,
     "metadata": {},
     "output_type": "execute_result"
    }
   ],
   "source": [
    "arr2d_25 = np.arange(10).reshape(2,5)\n",
    "print(arr2d_25)\n",
    "arr2d_25[0:2,2:3]"
   ]
  },
  {
   "cell_type": "markdown",
   "metadata": {
    "id": "CQ9YST5jy0IL"
   },
   "source": [
    "26. Create a 10x10 array with random values and find the minimum and maximum values"
   ]
  },
  {
   "cell_type": "code",
   "execution_count": 203,
   "metadata": {
    "id": "lhJPugjQzG6W"
   },
   "outputs": [
    {
     "name": "stdout",
     "output_type": "stream",
     "text": [
      "Orignial 10x10 Array with random values:  [[8.02967024e-01 9.89930368e-01 2.93932144e-01 1.76161995e-01\n",
      "  8.98025484e-01 4.82108673e-02 6.85100820e-01 8.15450264e-01\n",
      "  5.44609974e-01 3.55304188e-01]\n",
      " [7.14456510e-01 3.86881547e-01 8.32230451e-01 1.78037974e-02\n",
      "  5.06052535e-01 5.12124816e-01 4.86723448e-01 3.20575452e-01\n",
      "  2.93963310e-01 5.61142669e-01]\n",
      " [8.33538887e-01 6.24444787e-01 6.50273150e-01 7.52505651e-01\n",
      "  4.84454588e-01 7.26564924e-01 7.01915693e-01 6.15334995e-01\n",
      "  9.38227715e-01 5.04913742e-01]\n",
      " [3.59155875e-01 4.97877803e-01 2.98843346e-03 2.38849936e-01\n",
      "  4.56191080e-01 4.12005537e-01 1.02684225e-02 6.07695746e-01\n",
      "  2.92711189e-01 6.66821144e-01]\n",
      " [6.26003037e-01 3.68256060e-01 2.22863762e-01 1.28365464e-01\n",
      "  8.59910334e-03 7.22544226e-01 7.56314532e-01 8.58942808e-01\n",
      "  5.27729208e-01 1.89702693e-01]\n",
      " [1.23174466e-01 6.00836372e-01 9.23511140e-01 5.86544030e-01\n",
      "  8.36358014e-01 9.11310588e-01 1.14160761e-01 5.88608371e-01\n",
      "  2.73866201e-01 9.53451922e-01]\n",
      " [9.81247406e-02 6.50946306e-01 4.75669158e-02 3.56113696e-01\n",
      "  5.62648917e-01 1.74132806e-01 6.84288451e-01 6.53834763e-02\n",
      "  3.43727902e-01 3.89060125e-01]\n",
      " [6.90665002e-01 6.04978663e-04 3.81630096e-01 1.17028471e-02\n",
      "  7.72546482e-01 6.64861678e-01 7.19018794e-01 1.83207933e-01\n",
      "  6.63925166e-01 2.21731810e-01]\n",
      " [9.31188261e-01 9.54266727e-01 7.75844687e-01 4.53969043e-01\n",
      "  5.06943910e-01 3.17514626e-01 9.24413114e-01 2.18884660e-01\n",
      "  9.70110517e-01 9.61589285e-01]\n",
      " [3.06126915e-01 8.85559995e-01 4.32614502e-01 8.73198053e-01\n",
      "  8.11027379e-01 3.73239442e-01 7.83589067e-02 6.53141753e-03\n",
      "  1.53475094e-01 3.99716136e-01]]\n",
      "(10, 10)\n",
      "min of array:  0.000604978662566813\n",
      "max of array:  0.9899303679912339\n"
     ]
    }
   ],
   "source": [
    "arr_rand_26 = np.random.random((10,10))\n",
    "print(\"Orignial 10x10 Array with random values: \", arr_rand_26)\n",
    "print(arr_rand_26.shape)\n",
    "\n",
    "arr_rand_26_min = arr_rand_26.min()\n",
    "print(\"min of array: \", arr_rand_26_min )\n",
    "\n",
    "arr_rand_26_max = arr_rand_26.max()\n",
    "print(\"max of array: \", arr_rand_26_max )\n",
    "\n"
   ]
  },
  {
   "cell_type": "markdown",
   "metadata": {
    "id": "cAgDt6KazHk6"
   },
   "source": [
    "27. a = np.array([1,2,3,2,3,4,3,4,5,6]) b = np.array([7,2,10,2,7,4,9,4,9,8])\n",
    "---\n",
    "Find the common items between a and b\n"
   ]
  },
  {
   "cell_type": "code",
   "execution_count": 210,
   "metadata": {
    "id": "kBXZanxIzs_F"
   },
   "outputs": [
    {
     "name": "stdout",
     "output_type": "stream",
     "text": [
      "Original arrays:  [1 2 3 2 3 4 3 4 5 6]   [ 7  2 10  2  7  4  9  4  9  8]\n",
      "Common items between a and b:  [2 4]\n"
     ]
    }
   ],
   "source": [
    "a = np.array([1,2,3,2,3,4,3,4,5,6]) \n",
    "b = np.array([7,2,10,2,7,4,9,4,9,8])\n",
    "print(\"Original arrays: \", a, ' ', b)\n",
    "\n",
    "c = np.intersect1d(a,b)\n",
    "print(\"Common items between a and b: \", c)"
   ]
  },
  {
   "cell_type": "markdown",
   "metadata": {
    "id": "lF9IzWOAztpD"
   },
   "source": [
    "28. a = np.array([1,2,3,2,3,4,3,4,5,6])\n",
    "b = np.array([7,2,10,2,7,4,9,4,9,8])\n",
    "\n",
    "---\n",
    "Find the positions where elements of a and b match\n",
    "\n"
   ]
  },
  {
   "cell_type": "code",
   "execution_count": 223,
   "metadata": {
    "id": "JR-mHQLH0HY_"
   },
   "outputs": [
    {
     "name": "stdout",
     "output_type": "stream",
     "text": [
      "Original arrays:  [1 2 3 2 3 4 3 4 5 6]   [ 7  2 10  2  7  4  9  4  9  8]\n",
      "Indices of common values wrt a:  [0 2]\n"
     ]
    }
   ],
   "source": [
    "a = np.array([1,2,3,2,3,4,3,4,5,6])\n",
    "b = np.array([7,2,10,2,7,4,9,4,9,8])\n",
    "print(\"Original arrays: \", a, ' ', b)\n",
    "c = np.searchsorted(a, np.intersect1d(a, b)) #np.searchsorted(b, np.intersect1d(a, b))\n",
    "print(\"Indices of common values wrt a: \", c) #repeated value with 1st ocurance indices"
   ]
  },
  {
   "cell_type": "markdown",
   "metadata": {
    "id": "mMDiefpH0H1x"
   },
   "source": [
    "29.  names = np.array(['Bob', 'Joe', 'Will', 'Bob', 'Will', 'Joe', 'Joe'])  data = np.random.randn(7, 4)\n",
    "\n",
    "---\n",
    "Find all the values from array **data** where the values from array **names** are not equal to **Will**\n"
   ]
  },
  {
   "cell_type": "code",
   "execution_count": 232,
   "metadata": {
    "id": "gfc1Lpf81ZSR"
   },
   "outputs": [
    {
     "data": {
      "text/plain": [
       "array([[ 0.36339201,  0.10818966, -1.34056878,  1.20437067],\n",
       "       [ 0.67104998,  1.55936738, -0.51723477,  0.34562584],\n",
       "       [-0.6450226 ,  0.49488151,  0.85175137, -0.38833395],\n",
       "       [-0.59749386,  0.32690987,  0.66328302, -0.6321852 ],\n",
       "       [ 2.25966935, -0.36151693, -2.21887735,  0.56278518]])"
      ]
     },
     "execution_count": 232,
     "metadata": {},
     "output_type": "execute_result"
    }
   ],
   "source": [
    "names = np.array(['Bob', 'Joe', 'Will', 'Bob', 'Will', 'Joe', 'Joe']) \n",
    "data = np.random.randn(7, 4)\n",
    "data[names != 'Will'] \n",
    "\n",
    "#data.shape"
   ]
  },
  {
   "cell_type": "markdown",
   "metadata": {
    "id": "52zEjDMf1aXS"
   },
   "source": [
    "30. names = np.array(['Bob', 'Joe', 'Will', 'Bob', 'Will', 'Joe', 'Joe']) data = np.random.randn(7, 4)\n",
    "\n",
    "---\n",
    "Find all the values from array **data** where the values from array **names** are not equal to **Will** and **Joe**\n",
    "\n"
   ]
  },
  {
   "cell_type": "code",
   "execution_count": 235,
   "metadata": {
    "id": "8RYG0kLO1mHw"
   },
   "outputs": [
    {
     "data": {
      "text/plain": [
       "array([[ 0.43239631,  1.35900846, -1.62087042,  0.32674555],\n",
       "       [ 0.06084357, -0.43849968,  0.3979831 , -1.14336322],\n",
       "       [ 1.62742342,  1.46523033, -1.47144254,  0.28260106],\n",
       "       [-1.35179465,  0.04699355, -1.79201796, -0.41857531],\n",
       "       [-0.43189701,  1.3429804 , -0.43483717, -1.34215536],\n",
       "       [ 0.50018011, -0.97570498,  1.12580595, -1.33570485],\n",
       "       [ 0.01780515, -0.02118342, -0.13044697, -0.44948553]])"
      ]
     },
     "execution_count": 235,
     "metadata": {},
     "output_type": "execute_result"
    }
   ],
   "source": [
    "names = np.array(['Bob', 'Joe', 'Will', 'Bob', 'Will', 'Joe', 'Joe']) \n",
    "data = np.random.randn(7, 4)\n",
    "data[(names != 'Will') | (names != 'Joe')]"
   ]
  },
  {
   "cell_type": "markdown",
   "metadata": {
    "id": "Q7hjf2bd2dCY"
   },
   "source": [
    "Difficulty Level **Hard**"
   ]
  },
  {
   "cell_type": "markdown",
   "metadata": {
    "id": "b48g7aRA2jVM"
   },
   "source": [
    "31. Create a 2D array of shape 5x3 to contain decimal numbers between 1 and 15."
   ]
  },
  {
   "cell_type": "code",
   "execution_count": 239,
   "metadata": {
    "id": "EbwfSCrW2f9_"
   },
   "outputs": [
    {
     "name": "stdout",
     "output_type": "stream",
     "text": [
      "[[ 1  2  3]\n",
      " [ 4  5  6]\n",
      " [ 7  8  9]\n",
      " [10 11 12]\n",
      " [13 14 15]]\n"
     ]
    }
   ],
   "source": [
    "arr2d_31 = np.array(range(1,16)).reshape(5,3)\n",
    "print(arr2d_31)"
   ]
  },
  {
   "cell_type": "markdown",
   "metadata": {
    "id": "Ei_nDHtO3qBk"
   },
   "source": [
    "32. Create an array of shape (2, 2, 4) with decimal numbers between 1 to 16."
   ]
  },
  {
   "cell_type": "code",
   "execution_count": 242,
   "metadata": {
    "id": "phOxVpBM4M6D"
   },
   "outputs": [
    {
     "data": {
      "text/plain": [
       "array([[[ 1,  2,  3,  4],\n",
       "        [ 5,  6,  7,  8]],\n",
       "\n",
       "       [[ 9, 10, 11, 12],\n",
       "        [13, 14, 15, 16]]])"
      ]
     },
     "execution_count": 242,
     "metadata": {},
     "output_type": "execute_result"
    }
   ],
   "source": [
    "arr_2x2x4_32 = np.array(range(1,17)).reshape(2,2,4)\n",
    "arr_2x2x4_32"
   ]
  },
  {
   "cell_type": "markdown",
   "metadata": {
    "id": "uyiQaMjA4d_x"
   },
   "source": [
    "33. Swap axes of the array you created in Question 32"
   ]
  },
  {
   "cell_type": "code",
   "execution_count": 249,
   "metadata": {
    "id": "w2m9p8064VtR"
   },
   "outputs": [
    {
     "name": "stdout",
     "output_type": "stream",
     "text": [
      "[[[ 1  2  3  4]\n",
      "  [ 9 10 11 12]]\n",
      "\n",
      " [[ 5  6  7  8]\n",
      "  [13 14 15 16]]]\n",
      "[[[ 1  9]\n",
      "  [ 5 13]]\n",
      "\n",
      " [[ 2 10]\n",
      "  [ 6 14]]\n",
      "\n",
      " [[ 3 11]\n",
      "  [ 7 15]]\n",
      "\n",
      " [[ 4 12]\n",
      "  [ 8 16]]]\n",
      "[[[ 1  5]\n",
      "  [ 2  6]\n",
      "  [ 3  7]\n",
      "  [ 4  8]]\n",
      "\n",
      " [[ 9 13]\n",
      "  [10 14]\n",
      "  [11 15]\n",
      "  [12 16]]]\n",
      "[[[ 1  5]\n",
      "  [ 2  6]\n",
      "  [ 3  7]\n",
      "  [ 4  8]]\n",
      "\n",
      " [[ 9 13]\n",
      "  [10 14]\n",
      "  [11 15]\n",
      "  [12 16]]]\n"
     ]
    }
   ],
   "source": [
    "print(np.swapaxes(arr_2x2x4_32,0,1)) # swap axes 0, 1\n",
    "print(np.swapaxes(arr_2x2x4_32,0,2)) # swap axes 0, 2\n",
    "print(np.swapaxes(arr_2x2x4_32,1,2)) # swap axes 1, 2\n",
    "print(np.swapaxes(arr_2x2x4_32,2,1)) # swap axes 2, 1"
   ]
  },
  {
   "cell_type": "markdown",
   "metadata": {
    "id": "2dlU_yUR4mVZ"
   },
   "source": [
    "34. Create an array of size 10, and find the square root of every element in the array, if the values less than 0.5, replace them with 0"
   ]
  },
  {
   "cell_type": "code",
   "execution_count": 267,
   "metadata": {
    "id": "tmBabEJ-5JgB"
   },
   "outputs": [
    {
     "name": "stdout",
     "output_type": "stream",
     "text": [
      "Original array:  [-0.24280277  0.46449371 -0.17644683 -0.68495714  0.81083044 -1.22611175\n",
      " -0.24956811 -0.4330389   1.36285348 -0.0442524 ]\n",
      "Square root of array elements:  [       nan 0.68153776        nan        nan 0.90046124        nan\n",
      "        nan        nan 1.16741316        nan]\n",
      "Replace with 0 if <0.5  [0.         0.         0.         0.         0.81083044 0.\n",
      " 0.         0.         1.36285348 0.        ]\n"
     ]
    },
    {
     "name": "stderr",
     "output_type": "stream",
     "text": [
      "c:\\users\\nasir\\appdata\\local\\programs\\python\\python36\\lib\\site-packages\\ipykernel_launcher.py:6: RuntimeWarning: invalid value encountered in sqrt\n",
      "  \n"
     ]
    }
   ],
   "source": [
    "# create an array of size 10\n",
    "arr_34 = np.random.randn(10)\n",
    "print(\"Original array: \", arr_34)\n",
    "\n",
    "# find square root of every element in array\n",
    "sqrt_arr_34 = np.sqrt(arr_34) # arr_34 ** 0.5\n",
    "print(\"Square root of array elements: \", sqrt_arr_34)\n",
    "\n",
    "arr_34[arr_34 < 0.5] = 0\n",
    "print(\"Replace with 0 if <0.5 \", arr_34)"
   ]
  },
  {
   "cell_type": "markdown",
   "metadata": {
    "id": "SNAM4dpu5RKA"
   },
   "source": [
    "35. Create two random arrays of range 12 and make an array with the maximum values between each element of the two arrays"
   ]
  },
  {
   "cell_type": "code",
   "execution_count": 283,
   "metadata": {
    "id": "3pxebU2b5q9Z"
   },
   "outputs": [
    {
     "name": "stdout",
     "output_type": "stream",
     "text": [
      "Original random arrays of range 12:  [ 2  0  5  2  2 11  2  9  6  7  5  1]   [ 4  6  1 10  7  3 11  9  8  5  9  9]\n",
      "Element-wise maximum values between a_35 and b_35 arrays:  [ 4  6  5 10  7 11 11  9  8  7  9  9]\n"
     ]
    }
   ],
   "source": [
    "a_35 = np.random.randint(0,13, size=12)\n",
    "b_35 = np.random.randint(0,13, size=12)\n",
    "print(\"Original random arrays of range 12: \", a_35, ' ', b_35)\n",
    "\n",
    "maxValues = np.maximum.reduce([a_35, b_35])   \n",
    "print(\"Element-wise maximum values between a_35 and b_35 arrays: \", maxValues)"
   ]
  },
  {
   "cell_type": "markdown",
   "metadata": {
    "id": "fz_bpqm28qmD"
   },
   "source": [
    "36. names = np.array(['Bob', 'Joe', 'Will', 'Bob', 'Will', 'Joe', 'Joe'])\n",
    "\n",
    "---\n",
    "Find the unique names and sort them out!\n"
   ]
  },
  {
   "cell_type": "code",
   "execution_count": 288,
   "metadata": {
    "id": "hiSNMgcY87Ey"
   },
   "outputs": [
    {
     "name": "stdout",
     "output_type": "stream",
     "text": [
      "['Bob' 'Joe' 'Will']\n"
     ]
    },
    {
     "data": {
      "text/plain": [
       "['Bob', 'Joe', 'Will']"
      ]
     },
     "execution_count": 288,
     "metadata": {},
     "output_type": "execute_result"
    }
   ],
   "source": [
    "names = np.array(['Bob', 'Joe', 'Will', 'Bob', 'Will', 'Joe', 'Joe'])\n",
    "uniqueNames = np.unique(names) #method-1 it finds unique names in sorted order\n",
    "print(uniqueNames)\n",
    "sorted(set(uniqueNames)) # alternative method"
   ]
  },
  {
   "cell_type": "markdown",
   "metadata": {
    "id": "dguMNzob870H"
   },
   "source": [
    "37. a = np.array([1,2,3,4,5])\n",
    "b = np.array([5,6,7,8,9])\n",
    "\n",
    "---\n",
    "From array a remove all items present in array b\n",
    "\n"
   ]
  },
  {
   "cell_type": "code",
   "execution_count": 297,
   "metadata": {
    "id": "eCNJXPvK9IAr"
   },
   "outputs": [
    {
     "name": "stdout",
     "output_type": "stream",
     "text": [
      "Original arrays:  [1 2 3 4 5]   [5 6 7 8 9]\n",
      "Elements of array a present in b:  [5]\n",
      "Array a after removing common elements with b:  [1 2 3 4]\n"
     ]
    }
   ],
   "source": [
    "a = np.array([1,2,3,4,5]) \n",
    "b = np.array([5,6,7,8,9])\n",
    "print(\"Original arrays: \", a, ' ', b)\n",
    "\n",
    "common = np.intersect1d(a,b)\n",
    "print(\"Elements of array a present in b: \", common)\n",
    "remove_comm = np.setdiff1d(a,b) # remove all elements of a present in b\n",
    "print(\"Array a after removing common elements with b: \", remove_comm)"
   ]
  },
  {
   "cell_type": "markdown",
   "metadata": {
    "id": "gz4Dvd4b_Akh"
   },
   "source": [
    "38.  Following is the input NumPy array delete column two and insert following new column in its place.\n",
    "\n",
    "---\n",
    "sampleArray = numpy.array([[34,43,73],[82,22,12],[53,94,66]]) \n",
    "\n",
    "\n",
    "---\n",
    "\n",
    "newColumn = numpy.array([[10,10,10]])\n"
   ]
  },
  {
   "cell_type": "code",
   "execution_count": 318,
   "metadata": {
    "id": "lLWAJWJJ_I3d"
   },
   "outputs": [
    {
     "name": "stdout",
     "output_type": "stream",
     "text": [
      "Original array: \n",
      " [[34 43 73]\n",
      " [82 22 12]\n",
      " [53 94 66]]\n",
      "Values of new column:  [[10 10 10]]\n"
     ]
    },
    {
     "data": {
      "text/plain": [
       "array([[34, 10, 73],\n",
       "       [82, 10, 12],\n",
       "       [53, 10, 66]])"
      ]
     },
     "execution_count": 318,
     "metadata": {},
     "output_type": "execute_result"
    }
   ],
   "source": [
    "sampleArray = np.array([[34,43,73],[82,22,12],[53,94,66]]) \n",
    "print(\"Original array: \\n\", sampleArray)\n",
    "\n",
    "sampleArray[0:,1:2] = 10 # column 2 assigned values 10\n",
    "#newColumn = np.array([[10,10,10]])\n",
    "print(\"Values of new column: \", newColumn)\n",
    "sampleArray"
   ]
  },
  {
   "cell_type": "markdown",
   "metadata": {
    "id": "1lIfmbQt_J_W"
   },
   "source": [
    "39. x = np.array([[1., 2., 3.], [4., 5., 6.]]) y = np.array([[6., 23.], [-1, 7], [8, 9]])\n",
    "\n",
    "\n",
    "---\n",
    "Find the dot product of the above two matrix\n"
   ]
  },
  {
   "cell_type": "code",
   "execution_count": 321,
   "metadata": {
    "id": "fV2-vXcR_vmu"
   },
   "outputs": [
    {
     "name": "stdout",
     "output_type": "stream",
     "text": [
      "Dot product of above two matices:\n"
     ]
    },
    {
     "data": {
      "text/plain": [
       "array([[ 28.,  64.],\n",
       "       [ 67., 181.]])"
      ]
     },
     "execution_count": 321,
     "metadata": {},
     "output_type": "execute_result"
    }
   ],
   "source": [
    "x = np.array([[1., 2., 3.], [4., 5., 6.]]) \n",
    "y = np.array([[6., 23.], [-1, 7], [8, 9]])\n",
    "print(\"Dot product of above two matices:\")\n",
    "np.dot(x,y)"
   ]
  },
  {
   "cell_type": "markdown",
   "metadata": {
    "id": "5U-4odUw_wP0"
   },
   "source": [
    "40. Generate a matrix of 20 random values and find its cumulative sum"
   ]
  },
  {
   "cell_type": "code",
   "execution_count": 341,
   "metadata": {
    "id": "_oOHdiYEAF8N"
   },
   "outputs": [
    {
     "name": "stdout",
     "output_type": "stream",
     "text": [
      "[ 0.93801151  1.0416107   1.21089078  1.29318252  1.39271329  2.05705971\n",
      "  3.0098601   3.20902121  3.8806763   4.26402308  5.08281679  6.03090596\n",
      "  6.69216804  6.81169005  6.97727748  7.96981803  8.93497708  9.66899529\n",
      " 10.39498995 10.52525377]\n"
     ]
    },
    {
     "data": {
      "text/plain": [
       "array([0.63482066, 2.44787658, 1.68908447, 3.08718535, 3.76734664,\n",
       "       5.18785956, 5.17877671, 3.04173945, 2.93479648, 3.83534111,\n",
       "       3.34673358, 3.62237876, 2.83661573, 2.61186715, 2.47997118,\n",
       "       1.99276295, 3.64014566, 3.5973378 , 4.01234814, 5.41389981])"
      ]
     },
     "execution_count": 341,
     "metadata": {},
     "output_type": "execute_result"
    }
   ],
   "source": [
    "# method-1:\n",
    "randMat_40 = np.random.random(20).reshape(2,10) \n",
    "print(randMat_40.cumsum()) # Cummulative Sum\n",
    "#print(np.cumsum(randMat_40))\n",
    "\n",
    "# method-2:\n",
    "arr = np.random.randn(4,5) # matrix of 20 random values\n",
    "arr.cumsum() # Cummulative Sum"
   ]
  },
  {
   "cell_type": "code",
   "execution_count": null,
   "metadata": {},
   "outputs": [],
   "source": []
  }
 ],
 "metadata": {
  "colab": {
   "name": "Numpy-Assignment-PIAIC-Batch35-Q2.ipynb",
   "provenance": []
  },
  "kernelspec": {
   "display_name": "Python 3",
   "language": "python",
   "name": "python3"
  },
  "language_info": {
   "codemirror_mode": {
    "name": "ipython",
    "version": 3
   },
   "file_extension": ".py",
   "mimetype": "text/x-python",
   "name": "python",
   "nbconvert_exporter": "python",
   "pygments_lexer": "ipython3",
   "version": "3.6.1"
  }
 },
 "nbformat": 4,
 "nbformat_minor": 1
}
