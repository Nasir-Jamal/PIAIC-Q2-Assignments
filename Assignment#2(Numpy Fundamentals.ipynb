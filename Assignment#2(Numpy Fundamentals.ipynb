{
 "cells": [
  {
   "cell_type": "markdown",
   "metadata": {},
   "source": [
    "# Numpy_Assignment_2::"
   ]
  },
  {
   "cell_type": "markdown",
   "metadata": {},
   "source": [
    "## Question:1"
   ]
  },
  {
   "cell_type": "code",
   "execution_count": 2,
   "metadata": {},
   "outputs": [],
   "source": [
    "import numpy as np"
   ]
  },
  {
   "cell_type": "markdown",
   "metadata": {},
   "source": [
    "### Convert a 1D array to a 2D array with 2 rows?"
   ]
  },
  {
   "cell_type": "markdown",
   "metadata": {},
   "source": [
    "#### Desired output::"
   ]
  },
  {
   "cell_type": "markdown",
   "metadata": {},
   "source": [
    "array([[0, 1, 2, 3, 4],\n",
    "        [5, 6, 7, 8, 9]])"
   ]
  },
  {
   "cell_type": "code",
   "execution_count": 5,
   "metadata": {},
   "outputs": [
    {
     "name": "stdout",
     "output_type": "stream",
     "text": [
      "1D array:  [0 1 2 3 4 5 6 7 8 9]\n",
      "1D converted to 2D array: \n",
      " [[0 1 2 3 4]\n",
      " [5 6 7 8 9]]\n"
     ]
    }
   ],
   "source": [
    "arr1d_1 = np.arange(10)\n",
    "print(\"1D array: \", arr1d_1)\n",
    "arr2d_1 = arr1d_1.reshape(2,5) #desired 2d array\n",
    "print(\"1D converted to 2D array: \\n\", arr2d_1)"
   ]
  },
  {
   "cell_type": "markdown",
   "metadata": {},
   "source": [
    "## Question:2"
   ]
  },
  {
   "cell_type": "markdown",
   "metadata": {},
   "source": [
    "###  How to stack two arrays vertically?"
   ]
  },
  {
   "cell_type": "markdown",
   "metadata": {},
   "source": [
    "#### Desired Output::"
   ]
  },
  {
   "cell_type": "raw",
   "metadata": {},
   "source": [
    "array([[0, 1, 2, 3, 4],\n",
    "        [5, 6, 7, 8, 9],\n",
    "       [1, 1, 1, 1, 1],\n",
    "       [1, 1, 1, 1, 1]])"
   ]
  },
  {
   "cell_type": "code",
   "execution_count": 6,
   "metadata": {},
   "outputs": [
    {
     "name": "stdout",
     "output_type": "stream",
     "text": [
      "first array \n",
      " [[0 1 2 3 4]\n",
      " [5 6 7 8 9]]\n",
      "second array \n",
      " [[1 1 1 1 1]\n",
      " [1 1 1 1 1]]\n"
     ]
    },
    {
     "data": {
      "text/plain": [
       "array([[0, 1, 2, 3, 4],\n",
       "       [5, 6, 7, 8, 9],\n",
       "       [1, 1, 1, 1, 1],\n",
       "       [1, 1, 1, 1, 1]])"
      ]
     },
     "execution_count": 6,
     "metadata": {},
     "output_type": "execute_result"
    }
   ],
   "source": [
    "a_2 = np.arange(10).reshape(2,5)\n",
    "print(\"first array \\n\", a_2)\n",
    "b_2 = np.ones(10, dtype=int).reshape(2,5)\n",
    "print(\"second array \\n\", b_2)\n",
    "\n",
    "# Vertical stacking: Rows of second array (b_2) are appended at the end of first array (a_2) \n",
    "np.vstack((a_2, b_2)) # desired result\n"
   ]
  },
  {
   "cell_type": "markdown",
   "metadata": {},
   "source": [
    "## Question:3"
   ]
  },
  {
   "cell_type": "markdown",
   "metadata": {},
   "source": [
    "### How to stack two arrays horizontally?"
   ]
  },
  {
   "cell_type": "markdown",
   "metadata": {},
   "source": [
    "#### Desired Output::"
   ]
  },
  {
   "cell_type": "raw",
   "metadata": {},
   "source": [
    "array([[0, 1, 2, 3, 4, 1, 1, 1, 1, 1],\n",
    "       [5, 6, 7, 8, 9, 1, 1, 1, 1, 1]])"
   ]
  },
  {
   "cell_type": "code",
   "execution_count": 7,
   "metadata": {},
   "outputs": [
    {
     "name": "stdout",
     "output_type": "stream",
     "text": [
      "first array \n",
      " [[0 1 2 3 4]\n",
      " [5 6 7 8 9]]\n",
      "second array \n",
      " [[1 1 1 1 1]\n",
      " [1 1 1 1 1]]\n"
     ]
    },
    {
     "data": {
      "text/plain": [
       "array([[0, 1, 2, 3, 4, 1, 1, 1, 1, 1],\n",
       "       [5, 6, 7, 8, 9, 1, 1, 1, 1, 1]])"
      ]
     },
     "execution_count": 7,
     "metadata": {},
     "output_type": "execute_result"
    }
   ],
   "source": [
    "a_3 = np.arange(10).reshape(2,5)\n",
    "print(\"first array \\n\", a_3)\n",
    "b_3 = np.ones(10, dtype=int).reshape(2,5)\n",
    "print(\"second array \\n\", b_3)\n",
    "\n",
    "# Horizontal stacking: Append columns of 2nd array (b_3) at the end of columns of first array (a_3)\n",
    "np.hstack((a_3, b_3)) # desired result"
   ]
  },
  {
   "cell_type": "markdown",
   "metadata": {},
   "source": [
    "## Question:4"
   ]
  },
  {
   "cell_type": "markdown",
   "metadata": {},
   "source": [
    "### How to convert an array of arrays into a flat 1d array?"
   ]
  },
  {
   "cell_type": "markdown",
   "metadata": {},
   "source": [
    "#### Desired Output::"
   ]
  },
  {
   "cell_type": "raw",
   "metadata": {},
   "source": [
    "array([0, 1, 2, 3, 4, 5, 6, 7, 8, 9])"
   ]
  },
  {
   "cell_type": "code",
   "execution_count": 74,
   "metadata": {},
   "outputs": [
    {
     "name": "stdout",
     "output_type": "stream",
     "text": [
      "[[0 1 2 3 4]\n",
      " [5 6 7 8 9]]\n",
      "Flatten 1d array:\n",
      "[0 1 2 3 4 5 6 7 8 9]\n"
     ]
    }
   ],
   "source": [
    "arr2d_4 = np.arange(10).reshape(2,5)\n",
    "print(arr2d_4) # 2-d array\n",
    "flat_arr1d_4 = arr2d_4.flatten() # desired output\n",
    "print(\"Flatten 1d array:\")\n",
    "print(flat_arr1d_4)\n",
    "\n",
    "\n",
    "#print(arr2d_4.ndim)\n",
    "#print(arr2d_4.shape)\n",
    "#print(type(arr2d_4))\n",
    "\n",
    "# multiple methods to cpnvert array of arrays into a flat 1d array\n",
    "# method-1: Use of flatten() method\n",
    "# flat_arr1d_4 = arr2d_4.flatten() # desired output\n",
    "# print(\"Flatten 1d array:\")\n",
    "# print(flat_arr1d_4)\n",
    "\n",
    "# method-2: Use of reshape() method\n",
    "# reshape_arr1d_4 = arr2d_4.reshape(10) # need to know the original size \n",
    "# print(\"Reshaped 1d array:\")\n",
    "# print(reshape_arr1d_4)\n",
    "\n",
    "# method-3: Use of Ravel() method\n",
    "# ravel_arr1d_4 = arr2d_4.ravel()\n",
    "# print(\"Raveled 1d array:\")\n",
    "# print(ravel_arr1d_4)\n",
    "\n",
    "# method-4: Use of resize() method \"Its danerous since it change the original size/shape of array\"\n",
    "#resized_arr1d_4 = arr2d_4.resize()\n",
    "# print(\"\\n\\n\\n----------\")\n",
    "# print(\"Desired Output\")\n",
    "#flat_arr1d_4"
   ]
  },
  {
   "cell_type": "markdown",
   "metadata": {},
   "source": [
    "## Question:5"
   ]
  },
  {
   "cell_type": "markdown",
   "metadata": {},
   "source": [
    "### How to Convert higher dimension into one dimension?"
   ]
  },
  {
   "cell_type": "markdown",
   "metadata": {},
   "source": [
    "#### Desired Output::"
   ]
  },
  {
   "cell_type": "raw",
   "metadata": {},
   "source": [
    "array([ 0, 1, 2, 3, 4, 5, 6, 7, 8, 9, 10, 11, 12, 13, 14])"
   ]
  },
  {
   "cell_type": "code",
   "execution_count": 9,
   "metadata": {},
   "outputs": [
    {
     "name": "stdout",
     "output_type": "stream",
     "text": [
      "\n",
      "\n",
      "\n",
      "---------2d array-------------\n",
      "[[ 0  1  2  3  4]\n",
      " [ 5  6  7  8  9]\n",
      " [10 11 12 13 14]]\n",
      "\n",
      "\n",
      "\n",
      "---------3d array-------------\n",
      "[[[ 0  1  2  3  4]\n",
      "  [ 5  6  7  8  9]\n",
      "  [10 11 12 13 14]]]\n",
      "\n",
      "\n",
      "\n",
      "---------2d converted to 1d array-------------\n",
      "[ 0  1  2  3  4  5  6  7  8  9 10 11 12 13 14]\n",
      "[ 0  1  2  3  4  5  6  7  8  9 10 11 12 13 14]\n",
      "[ 0  1  2  3  4  5  6  7  8  9 10 11 12 13 14]\n",
      "\n",
      "\n",
      "\n",
      "---------3d converted to 1d array-------------\n",
      "[ 0  1  2  3  4  5  6  7  8  9 10 11 12 13 14]\n",
      "[ 0  1  2  3  4  5  6  7  8  9 10 11 12 13 14]\n",
      "[ 0  1  2  3  4  5  6  7  8  9 10 11 12 13 14]\n"
     ]
    }
   ],
   "source": [
    "# A higher dimention array may be 2D, 3D and so on, I will consider only 2D, 3D here\n",
    "arr2d_5 = np.arange(15).reshape(3,5) # 2-d array\n",
    "arr3d_5 = np.arange(15).reshape(1,3,5) # 3-d array\n",
    "print(\"\\n\\n\\n---------2d array-------------\")\n",
    "print(arr2d_5) # 2-d array\n",
    "print(\"\\n\\n\\n---------3d array-------------\")\n",
    "print(arr3d_5) # 3-d array\n",
    "print(\"\\n\\n\\n---------2d converted to 1d array-------------\")\n",
    "# method-1: Using reshape()\n",
    "arr1d_2d_reshape = arr2d_5.reshape(15) # 2-d converted to 1-d array by reshape() method\n",
    "print(arr1d_2d_reshape)\n",
    "\n",
    "# method-2: Using ravel()\n",
    "arr1d_2d_ravled = arr2d_5.ravel() # 2-d converted to 1-d array by ravel() method\n",
    "print(arr1d_2d_ravled)\n",
    "\n",
    "# method-3: Using flatten()\n",
    "arr1d_2d_flat = arr2d_5.flatten() # 2-d converted to 1-d array by flatten() method\n",
    "print(arr1d_2d_flat)\n",
    "\n",
    "\n",
    "\n",
    "print(\"\\n\\n\\n---------3d converted to 1d array-------------\")\n",
    "# 3-d converted to 1-d array:\n",
    "arr1d_3d_reshape = arr3d_5.reshape(15) # 3-d converted to 1-d array by reshape() method\n",
    "arr1d_3d_ravled = arr3d_5.ravel() # 3-d converted to 1-d array by ravel() method\n",
    "arr1d_3d_flat = arr3d_5.flatten() # 3-d converted to 1-d array by flatten() method\n",
    "print(arr1d_3d_reshape) # \n",
    "print(arr1d_3d_ravled)\n",
    "print(arr1d_3d_flat)"
   ]
  },
  {
   "cell_type": "markdown",
   "metadata": {},
   "source": [
    "## Question:6"
   ]
  },
  {
   "cell_type": "markdown",
   "metadata": {},
   "source": [
    "### Convert one dimension to higher dimension?"
   ]
  },
  {
   "cell_type": "markdown",
   "metadata": {},
   "source": [
    "#### Desired Output::"
   ]
  },
  {
   "cell_type": "raw",
   "metadata": {},
   "source": [
    "array([[ 0, 1, 2],\n",
    "[ 3, 4, 5],\n",
    "[ 6, 7, 8],\n",
    "[ 9, 10, 11],\n",
    "[12, 13, 14]])"
   ]
  },
  {
   "cell_type": "code",
   "execution_count": 11,
   "metadata": {},
   "outputs": [
    {
     "name": "stdout",
     "output_type": "stream",
     "text": [
      "[ 0  1  2  3  4  5  6  7  8  9 10 11 12 13 14]\n"
     ]
    },
    {
     "data": {
      "text/plain": [
       "array([[ 0,  1,  2],\n",
       "       [ 3,  4,  5],\n",
       "       [ 6,  7,  8],\n",
       "       [ 9, 10, 11],\n",
       "       [12, 13, 14]])"
      ]
     },
     "execution_count": 11,
     "metadata": {},
     "output_type": "execute_result"
    }
   ],
   "source": [
    "arr1d_6 = np.arange(15) # 1-d array\n",
    "print(arr1d_6)\n",
    "\n",
    "# converted 1d to 2d array: for desired result\n",
    "arr2d_6 = arr1d_6.reshape(5,3) # desired result\n",
    "arr2d_6 # desired result\n"
   ]
  },
  {
   "cell_type": "markdown",
   "metadata": {},
   "source": [
    "## Question:7"
   ]
  },
  {
   "cell_type": "markdown",
   "metadata": {},
   "source": [
    "### Create 5x5 an array and find the square of an array?"
   ]
  },
  {
   "cell_type": "code",
   "execution_count": 15,
   "metadata": {},
   "outputs": [
    {
     "name": "stdout",
     "output_type": "stream",
     "text": [
      "[[ 0  1  2  3  4]\n",
      " [ 5  6  7  8  9]\n",
      " [10 11 12 13 14]\n",
      " [15 16 17 18 19]\n",
      " [20 21 22 23 24]]\n",
      "[[  0   1   4   9  16]\n",
      " [ 25  36  49  64  81]\n",
      " [100 121 144 169 196]\n",
      " [225 256 289 324 361]\n",
      " [400 441 484 529 576]]\n",
      "\n",
      "\n",
      "-----------------\n",
      "[[0.         1.         1.41421356 1.73205081 2.        ]\n",
      " [2.23606798 2.44948974 2.64575131 2.82842712 3.        ]\n",
      " [3.16227766 3.31662479 3.46410162 3.60555128 3.74165739]\n",
      " [3.87298335 4.         4.12310563 4.24264069 4.35889894]\n",
      " [4.47213595 4.58257569 4.69041576 4.79583152 4.89897949]]\n"
     ]
    }
   ],
   "source": [
    "arr5x5_7 = np.arange(25).reshape(5,5) # 5x5 array\n",
    "print(arr5x5_7) # 5x5 array\n",
    "print(np.square(arr5x5_7)) # square of the array\n",
    "print(\"\\n\\n-----------------\")\n",
    "print(np.sqrt(arr5x5_7)) # square_root"
   ]
  },
  {
   "cell_type": "markdown",
   "metadata": {},
   "source": [
    "## Question:8"
   ]
  },
  {
   "cell_type": "markdown",
   "metadata": {},
   "source": [
    "### Create 5x6 an array and find the mean?"
   ]
  },
  {
   "cell_type": "code",
   "execution_count": 83,
   "metadata": {},
   "outputs": [
    {
     "name": "stdout",
     "output_type": "stream",
     "text": [
      "[[ 0  1  2  3  4  5]\n",
      " [ 6  7  8  9 10 11]\n",
      " [12 13 14 15 16 17]\n",
      " [18 19 20 21 22 23]\n",
      " [24 25 26 27 28 29]]\n"
     ]
    },
    {
     "data": {
      "text/plain": [
       "14.5"
      ]
     },
     "execution_count": 83,
     "metadata": {},
     "output_type": "execute_result"
    }
   ],
   "source": [
    "arr5x6_8 = np.arange(30).reshape(5,6) # 5x6 array\n",
    "print(arr5x6_8) # 5x6 array\n",
    "np.mean(arr5x6_8) # mean of 5x6 array"
   ]
  },
  {
   "cell_type": "markdown",
   "metadata": {},
   "source": [
    "## Question:9"
   ]
  },
  {
   "cell_type": "markdown",
   "metadata": {},
   "source": [
    "### Find the standard deviation of the previous array in Q8?"
   ]
  },
  {
   "cell_type": "code",
   "execution_count": 17,
   "metadata": {},
   "outputs": [
    {
     "data": {
      "text/plain": [
       "8.65544144839919"
      ]
     },
     "execution_count": 17,
     "metadata": {},
     "output_type": "execute_result"
    }
   ],
   "source": [
    "arr5x6_8 = np.arange(30).reshape(5,6)\n",
    "np.std(arr5x6_8) # standard devication of 5x6 array of Q8"
   ]
  },
  {
   "cell_type": "markdown",
   "metadata": {},
   "source": [
    "## Question:10"
   ]
  },
  {
   "cell_type": "markdown",
   "metadata": {},
   "source": [
    "### Find the median of the previous array in Q8?"
   ]
  },
  {
   "cell_type": "code",
   "execution_count": 18,
   "metadata": {},
   "outputs": [
    {
     "data": {
      "text/plain": [
       "14.5"
      ]
     },
     "execution_count": 18,
     "metadata": {},
     "output_type": "execute_result"
    }
   ],
   "source": [
    "arr5x6_8 = np.arange(30).reshape(5,6)\n",
    "np.median(arr5x6_8) # median of 5x6 array of Q8"
   ]
  },
  {
   "cell_type": "markdown",
   "metadata": {},
   "source": [
    "## Question:11"
   ]
  },
  {
   "cell_type": "markdown",
   "metadata": {},
   "source": [
    "### Find the transpose of the previous array in Q8?"
   ]
  },
  {
   "cell_type": "code",
   "execution_count": 24,
   "metadata": {},
   "outputs": [
    {
     "name": "stdout",
     "output_type": "stream",
     "text": [
      "Original array: \n",
      " [[ 0  1  2  3  4  5]\n",
      " [ 6  7  8  9 10 11]\n",
      " [12 13 14 15 16 17]\n",
      " [18 19 20 21 22 23]\n",
      " [24 25 26 27 28 29]]\n",
      "\n",
      "\n",
      "Transpose of Original array:\n"
     ]
    },
    {
     "data": {
      "text/plain": [
       "array([[ 0,  6, 12, 18, 24],\n",
       "       [ 1,  7, 13, 19, 25],\n",
       "       [ 2,  8, 14, 20, 26],\n",
       "       [ 3,  9, 15, 21, 27],\n",
       "       [ 4, 10, 16, 22, 28],\n",
       "       [ 5, 11, 17, 23, 29]])"
      ]
     },
     "execution_count": 24,
     "metadata": {},
     "output_type": "execute_result"
    }
   ],
   "source": [
    "arr5x6_8 = np.arange(30).reshape(5,6)\n",
    "print(\"Original array: \\n\", arr5x6_8)\n",
    "print(\"\\n\\nTranspose of Original array:\")\n",
    "np.transpose(arr5x6_8) # transpose of 5x6 array of Q8"
   ]
  },
  {
   "cell_type": "markdown",
   "metadata": {},
   "source": [
    "## Question:12"
   ]
  },
  {
   "cell_type": "markdown",
   "metadata": {},
   "source": [
    "### Create a 4x4 an array and find the sum of diagonal elements?"
   ]
  },
  {
   "cell_type": "code",
   "execution_count": 36,
   "metadata": {},
   "outputs": [
    {
     "name": "stdout",
     "output_type": "stream",
     "text": [
      "Original 4x4 array: \n",
      " [[ 0  1  2  3]\n",
      " [ 4  5  6  7]\n",
      " [ 8  9 10 11]\n",
      " [12 13 14 15]]\n"
     ]
    },
    {
     "data": {
      "text/plain": [
       "30"
      ]
     },
     "execution_count": 36,
     "metadata": {},
     "output_type": "execute_result"
    }
   ],
   "source": [
    "arr4x4_12 = np.arange(16).reshape(4,4)\n",
    "print(\"Original 4x4 array: \\n\", arr4x4_12)\n",
    "\n",
    "arr_diagonal = np.diagonal(arr4x4_12) # diagonal elements of array:\n",
    "np.sum(arr_diagonal) # sum of diagonal elements of array\n",
    "\n",
    "#np.sum(np.diagonal(arr4x4_12)) can also be used\n",
    "#np.trace(arr4x4_12) can also be used"
   ]
  },
  {
   "cell_type": "markdown",
   "metadata": {},
   "source": [
    "## Question:13"
   ]
  },
  {
   "cell_type": "markdown",
   "metadata": {},
   "source": [
    "### Find the determinant of the previous array in Q12?"
   ]
  },
  {
   "cell_type": "code",
   "execution_count": 41,
   "metadata": {},
   "outputs": [
    {
     "name": "stdout",
     "output_type": "stream",
     "text": [
      "Original 4x4 matrix: \n",
      " [[ 0  1  2  3]\n",
      " [ 4  5  6  7]\n",
      " [ 8  9 10 11]\n",
      " [12 13 14 15]]\n",
      "\n",
      "determinent of 4x4 matrix: \n"
     ]
    },
    {
     "data": {
      "text/plain": [
       "0.0"
      ]
     },
     "execution_count": 41,
     "metadata": {},
     "output_type": "execute_result"
    }
   ],
   "source": [
    "from numpy.linalg import det\n",
    "arr4x4_12 = np.arange(16).reshape(4,4)\n",
    "print(\"Original 4x4 matrix: \\n\", arr4x4_12)\n",
    "print(\"\\ndeterminent of 4x4 matrix: \")\n",
    "np.linalg.det(arr4x4_12)\n"
   ]
  },
  {
   "cell_type": "markdown",
   "metadata": {},
   "source": [
    "## Question:14"
   ]
  },
  {
   "cell_type": "markdown",
   "metadata": {},
   "source": [
    "### Find the 5th and 95th percentile of an array?"
   ]
  },
  {
   "cell_type": "code",
   "execution_count": 45,
   "metadata": {},
   "outputs": [
    {
     "name": "stdout",
     "output_type": "stream",
     "text": [
      "5th percentile:  0.9500000000000001\n",
      "95th percentile:  18.05\n"
     ]
    }
   ],
   "source": [
    "arr_14 = np.arange(20).reshape(4,5)\n",
    "print(\"5th percentile: \", np.percentile(arr_14, 5)) \n",
    "print(\"95th percentile: \", np.percentile(arr_14, 95)) "
   ]
  },
  {
   "cell_type": "markdown",
   "metadata": {},
   "source": [
    "## Question:15"
   ]
  },
  {
   "cell_type": "markdown",
   "metadata": {},
   "source": [
    "### How to find if a given array has any null values?"
   ]
  },
  {
   "cell_type": "code",
   "execution_count": 72,
   "metadata": {},
   "outputs": [
    {
     "name": "stdout",
     "output_type": "stream",
     "text": [
      "array having null values:  [ 5. nan  9. 10. 15. nan 35.]\n"
     ]
    },
    {
     "data": {
      "text/plain": [
       "True"
      ]
     },
     "execution_count": 72,
     "metadata": {},
     "output_type": "execute_result"
    }
   ],
   "source": [
    "arr_15 = np.array([5,7,9,10,15,50,35]).astype('float')\n",
    "arr_15[1] = np.nan\n",
    "arr_15[5] = np.nan\n",
    "print(\"array having null values: \", arr_15)\n",
    "\n",
    "np.isnan(arr_15).any() # check if any array values are nul (not a number, non numeric etc) and return TRUE if found\n",
    "\n"
   ]
  },
  {
   "cell_type": "code",
   "execution_count": null,
   "metadata": {},
   "outputs": [],
   "source": []
  }
 ],
 "metadata": {
  "kernelspec": {
   "display_name": "Python 3",
   "language": "python",
   "name": "python3"
  },
  "language_info": {
   "codemirror_mode": {
    "name": "ipython",
    "version": 3
   },
   "file_extension": ".py",
   "mimetype": "text/x-python",
   "name": "python",
   "nbconvert_exporter": "python",
   "pygments_lexer": "ipython3",
   "version": "3.6.1"
  }
 },
 "nbformat": 4,
 "nbformat_minor": 2
}
